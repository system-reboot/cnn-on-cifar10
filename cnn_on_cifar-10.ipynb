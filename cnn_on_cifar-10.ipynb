{
 "cells": [
  {
   "cell_type": "code",
   "execution_count": 72,
   "metadata": {},
   "outputs": [],
   "source": [
    "import os\n",
    "import torch as tc\n",
    "import torchvision\n",
    "import tarfile\n",
    "from torchvision.datasets.utils import download_url\n",
    "from torch.utils.data import random_split"
   ]
  },
  {
   "attachments": {},
   "cell_type": "markdown",
   "metadata": {},
   "source": [
    "# Dowloading and extracting the dataset"
   ]
  },
  {
   "cell_type": "code",
   "execution_count": 73,
   "metadata": {},
   "outputs": [
    {
     "name": "stdout",
     "output_type": "stream",
     "text": [
      "Using downloaded and verified file: .\\cifar10.tgz\n"
     ]
    }
   ],
   "source": [
    "try:\n",
    "    if(not os.path.exists('./cifar10')):\n",
    "        dataset_url = \"https://s3.amazonaws.com/fast-ai-imageclas/cifar10.tgz\"\n",
    "        download_url(dataset_url, '.')\n",
    "        with tarfile.open('./cifar10.tgz', 'r:gz') as tar:\n",
    "            tar.extractall(path='./data')\n",
    "    else:\n",
    "        print('Dataset already downloaded')\n",
    "except:\n",
    "    print('Error while downloading the dataset')"
   ]
  },
  {
   "cell_type": "code",
   "execution_count": 74,
   "metadata": {},
   "outputs": [
    {
     "name": "stdout",
     "output_type": "stream",
     "text": [
      "10\n"
     ]
    }
   ],
   "source": [
    "print(len(os.listdir('./data/cifar10/train')))"
   ]
  },
  {
   "cell_type": "code",
   "execution_count": 75,
   "metadata": {},
   "outputs": [
    {
     "name": "stdout",
     "output_type": "stream",
     "text": [
      "['airplane', 'automobile', 'bird', 'cat', 'deer', 'dog', 'frog', 'horse', 'ship', 'truck']\n"
     ]
    }
   ],
   "source": [
    "data_dir = './data/cifar10'\n",
    "classes = os.listdir(data_dir + \"/train\")\n",
    "print(classes)"
   ]
  },
  {
   "cell_type": "code",
   "execution_count": 76,
   "metadata": {},
   "outputs": [
    {
     "name": "stdout",
     "output_type": "stream",
     "text": [
      "Number of training images of airplane:  5000\n"
     ]
    }
   ],
   "source": [
    "print('Number of training images of airplane: ', len(os.listdir(data_dir + \"/train/airplane\")))"
   ]
  },
  {
   "cell_type": "code",
   "execution_count": 77,
   "metadata": {},
   "outputs": [
    {
     "name": "stdout",
     "output_type": "stream",
     "text": [
      "Number of test images of airplane:  1000\n"
     ]
    }
   ],
   "source": [
    "print('Number of test images of airplane: ', len(os.listdir(data_dir + \"/test/airplane\")))"
   ]
  },
  {
   "cell_type": "code",
   "execution_count": 78,
   "metadata": {},
   "outputs": [],
   "source": [
    "from torchvision.datasets import ImageFolder\n",
    "from torchvision.transforms import ToTensor"
   ]
  },
  {
   "cell_type": "code",
   "execution_count": 79,
   "metadata": {},
   "outputs": [
    {
     "data": {
      "text/plain": [
       "Dataset ImageFolder\n",
       "    Number of datapoints: 50000\n",
       "    Root location: ./data/cifar10/train\n",
       "    StandardTransform\n",
       "Transform: ToTensor()"
      ]
     },
     "execution_count": 79,
     "metadata": {},
     "output_type": "execute_result"
    }
   ],
   "source": [
    "train = ImageFolder(data_dir+'/train', transform=ToTensor())\n",
    "test = ImageFolder(data_dir+'/test', transform=ToTensor())\n",
    "train"
   ]
  },
  {
   "attachments": {},
   "cell_type": "markdown",
   "metadata": {},
   "source": [
    "Thus, there are 10 classes inside train folder where each class consist of 5000 images while test consist of only 10000 images.  "
   ]
  },
  {
   "cell_type": "code",
   "execution_count": 80,
   "metadata": {},
   "outputs": [
    {
     "data": {
      "text/plain": [
       "(tensor([[[0.7922, 0.7922, 0.8000,  ..., 0.8118, 0.8039, 0.7961],\n",
       "          [0.8078, 0.8078, 0.8118,  ..., 0.8235, 0.8157, 0.8078],\n",
       "          [0.8235, 0.8275, 0.8314,  ..., 0.8392, 0.8314, 0.8235],\n",
       "          ...,\n",
       "          [0.8549, 0.8235, 0.7608,  ..., 0.9529, 0.9569, 0.9529],\n",
       "          [0.8588, 0.8510, 0.8471,  ..., 0.9451, 0.9451, 0.9451],\n",
       "          [0.8510, 0.8471, 0.8510,  ..., 0.9373, 0.9373, 0.9412]],\n",
       " \n",
       "         [[0.8000, 0.8000, 0.8078,  ..., 0.8157, 0.8078, 0.8000],\n",
       "          [0.8157, 0.8157, 0.8196,  ..., 0.8275, 0.8196, 0.8118],\n",
       "          [0.8314, 0.8353, 0.8392,  ..., 0.8392, 0.8353, 0.8275],\n",
       "          ...,\n",
       "          [0.8510, 0.8196, 0.7608,  ..., 0.9490, 0.9490, 0.9529],\n",
       "          [0.8549, 0.8471, 0.8471,  ..., 0.9412, 0.9412, 0.9412],\n",
       "          [0.8471, 0.8431, 0.8471,  ..., 0.9333, 0.9333, 0.9333]],\n",
       " \n",
       "         [[0.7804, 0.7804, 0.7882,  ..., 0.7843, 0.7804, 0.7765],\n",
       "          [0.7961, 0.7961, 0.8000,  ..., 0.8039, 0.7961, 0.7882],\n",
       "          [0.8118, 0.8157, 0.8235,  ..., 0.8235, 0.8157, 0.8078],\n",
       "          ...,\n",
       "          [0.8706, 0.8392, 0.7765,  ..., 0.9686, 0.9686, 0.9686],\n",
       "          [0.8745, 0.8667, 0.8627,  ..., 0.9608, 0.9608, 0.9608],\n",
       "          [0.8667, 0.8627, 0.8667,  ..., 0.9529, 0.9529, 0.9529]]]),\n",
       " 0)"
      ]
     },
     "execution_count": 80,
     "metadata": {},
     "output_type": "execute_result"
    }
   ],
   "source": [
    "train[0]"
   ]
  },
  {
   "attachments": {},
   "cell_type": "markdown",
   "metadata": {},
   "source": [
    "# Making batches of 128 for train and 256 for test set"
   ]
  },
  {
   "cell_type": "code",
   "execution_count": 81,
   "metadata": {},
   "outputs": [],
   "source": [
    "trainset = tc.utils.data.DataLoader(train, batch_size=128, shuffle=True)\n",
    "testset = tc.utils.data.DataLoader(test, batch_size=128*2, shuffle=True)"
   ]
  },
  {
   "cell_type": "code",
   "execution_count": 82,
   "metadata": {},
   "outputs": [
    {
     "data": {
      "text/plain": [
       "<torch.utils.data.dataloader.DataLoader at 0x178b2e8ace0>"
      ]
     },
     "execution_count": 82,
     "metadata": {},
     "output_type": "execute_result"
    }
   ],
   "source": [
    "trainset"
   ]
  },
  {
   "cell_type": "code",
   "execution_count": 83,
   "metadata": {},
   "outputs": [
    {
     "name": "stdout",
     "output_type": "stream",
     "text": [
      "[tensor([[[[0.3922, 0.3490, 0.3216,  ..., 0.2510, 0.2510, 0.2314],\n",
      "          [0.3647, 0.3255, 0.3333,  ..., 0.2627, 0.2549, 0.2353],\n",
      "          [0.3412, 0.3294, 0.3569,  ..., 0.2706, 0.2588, 0.2392],\n",
      "          ...,\n",
      "          [0.2706, 0.2706, 0.2706,  ..., 0.2667, 0.2588, 0.2510],\n",
      "          [0.2667, 0.2667, 0.2667,  ..., 0.2627, 0.2549, 0.2471],\n",
      "          [0.2588, 0.2588, 0.2627,  ..., 0.2588, 0.2510, 0.2431]],\n",
      "\n",
      "         [[0.4980, 0.4627, 0.4431,  ..., 0.4078, 0.4078, 0.3882],\n",
      "          [0.4706, 0.4353, 0.4510,  ..., 0.4196, 0.4118, 0.3922],\n",
      "          [0.4392, 0.4392, 0.4706,  ..., 0.4275, 0.4157, 0.3961],\n",
      "          ...,\n",
      "          [0.4353, 0.4392, 0.4471,  ..., 0.4431, 0.4353, 0.4275],\n",
      "          [0.4353, 0.4392, 0.4431,  ..., 0.4392, 0.4314, 0.4235],\n",
      "          [0.4275, 0.4314, 0.4392,  ..., 0.4353, 0.4275, 0.4196]],\n",
      "\n",
      "         [[0.5843, 0.5529, 0.5412,  ..., 0.5490, 0.5490, 0.5333],\n",
      "          [0.5569, 0.5216, 0.5451,  ..., 0.5608, 0.5529, 0.5373],\n",
      "          [0.5176, 0.5216, 0.5608,  ..., 0.5686, 0.5569, 0.5412],\n",
      "          ...,\n",
      "          [0.5647, 0.5725, 0.5882,  ..., 0.6039, 0.5961, 0.5804],\n",
      "          [0.5647, 0.5725, 0.5843,  ..., 0.6000, 0.5922, 0.5765],\n",
      "          [0.5569, 0.5647, 0.5804,  ..., 0.5961, 0.5843, 0.5725]]],\n",
      "\n",
      "\n",
      "        [[[0.6627, 0.5765, 0.9216,  ..., 0.8118, 0.8157, 0.8118],\n",
      "          [0.6824, 0.4667, 0.7922,  ..., 0.7922, 0.8118, 0.8235],\n",
      "          [0.7255, 0.4196, 0.6196,  ..., 0.7882, 0.8196, 0.8353],\n",
      "          ...,\n",
      "          [0.5804, 0.7098, 0.7451,  ..., 0.2314, 0.5255, 0.7255],\n",
      "          [0.7451, 0.7608, 0.7608,  ..., 0.5373, 0.7098, 0.7373],\n",
      "          [0.7569, 0.7569, 0.7686,  ..., 0.7333, 0.7333, 0.7412]],\n",
      "\n",
      "         [[0.7725, 0.7216, 0.9725,  ..., 0.3804, 0.3843, 0.4000],\n",
      "          [0.7647, 0.6118, 0.8667,  ..., 0.3765, 0.3765, 0.3882],\n",
      "          [0.7882, 0.5725, 0.7216,  ..., 0.4118, 0.4039, 0.3922],\n",
      "          ...,\n",
      "          [0.5804, 0.6824, 0.7176,  ..., 0.2706, 0.5529, 0.7333],\n",
      "          [0.7373, 0.7294, 0.7333,  ..., 0.5647, 0.7176, 0.7294],\n",
      "          [0.7412, 0.7412, 0.7529,  ..., 0.7373, 0.7333, 0.7412]],\n",
      "\n",
      "         [[0.8510, 0.8196, 0.9725,  ..., 0.2353, 0.2353, 0.2627],\n",
      "          [0.8353, 0.7647, 0.9176,  ..., 0.2196, 0.2157, 0.2353],\n",
      "          [0.8588, 0.7608, 0.8196,  ..., 0.2627, 0.2510, 0.2431],\n",
      "          ...,\n",
      "          [0.5922, 0.6824, 0.7255,  ..., 0.2824, 0.5490, 0.7176],\n",
      "          [0.6941, 0.6784, 0.7020,  ..., 0.5569, 0.6941, 0.6941],\n",
      "          [0.7020, 0.7020, 0.7137,  ..., 0.6824, 0.6824, 0.6980]]],\n",
      "\n",
      "\n",
      "        [[[0.4157, 0.4784, 0.5373,  ..., 0.2902, 0.2706, 0.2549],\n",
      "          [0.3725, 0.4196, 0.5529,  ..., 0.2863, 0.2667, 0.2471],\n",
      "          [0.3451, 0.3529, 0.5451,  ..., 0.2980, 0.3294, 0.3451],\n",
      "          ...,\n",
      "          [0.5098, 0.5451, 0.6000,  ..., 0.4471, 0.3765, 0.4549],\n",
      "          [0.5020, 0.5216, 0.5373,  ..., 0.5216, 0.3804, 0.4118],\n",
      "          [0.4902, 0.4941, 0.4941,  ..., 0.5137, 0.4078, 0.3373]],\n",
      "\n",
      "         [[0.4745, 0.5137, 0.5608,  ..., 0.2510, 0.2549, 0.2706],\n",
      "          [0.4235, 0.4431, 0.5490,  ..., 0.2667, 0.2941, 0.3255],\n",
      "          [0.3882, 0.3529, 0.5098,  ..., 0.2941, 0.3961, 0.4588],\n",
      "          ...,\n",
      "          [0.4902, 0.5451, 0.6157,  ..., 0.5137, 0.4078, 0.4510],\n",
      "          [0.4706, 0.5098, 0.5490,  ..., 0.6275, 0.4431, 0.4157],\n",
      "          [0.4588, 0.4706, 0.5020,  ..., 0.5922, 0.4745, 0.3686]],\n",
      "\n",
      "         [[0.4078, 0.4314, 0.4588,  ..., 0.1373, 0.1529, 0.1843],\n",
      "          [0.3529, 0.3569, 0.4471,  ..., 0.1843, 0.2196, 0.2588],\n",
      "          [0.3098, 0.2627, 0.4078,  ..., 0.2235, 0.3255, 0.3961],\n",
      "          ...,\n",
      "          [0.4118, 0.4627, 0.5255,  ..., 0.4196, 0.2784, 0.3098],\n",
      "          [0.3882, 0.4196, 0.4588,  ..., 0.5412, 0.3373, 0.2784],\n",
      "          [0.3647, 0.3647, 0.4118,  ..., 0.5176, 0.4235, 0.2549]]],\n",
      "\n",
      "\n",
      "        ...,\n",
      "\n",
      "\n",
      "        [[[0.5333, 0.5255, 0.5098,  ..., 0.5373, 0.3843, 0.3529],\n",
      "          [0.5922, 0.6196, 0.6235,  ..., 0.5255, 0.3882, 0.3725],\n",
      "          [0.5373, 0.6510, 0.6471,  ..., 0.4235, 0.3333, 0.3529],\n",
      "          ...,\n",
      "          [0.9922, 0.9725, 0.9804,  ..., 0.9882, 0.9882, 0.9804],\n",
      "          [0.9882, 0.9608, 0.9765,  ..., 0.9804, 0.9765, 0.9843],\n",
      "          [0.9922, 0.9647, 0.9686,  ..., 0.9804, 0.9804, 0.9882]],\n",
      "\n",
      "         [[0.4510, 0.4353, 0.4078,  ..., 0.4588, 0.2863, 0.2431],\n",
      "          [0.4980, 0.5216, 0.5098,  ..., 0.4392, 0.2863, 0.2667],\n",
      "          [0.4471, 0.5569, 0.5412,  ..., 0.3255, 0.2314, 0.2549],\n",
      "          ...,\n",
      "          [0.8235, 0.8157, 0.8000,  ..., 0.8118, 0.7961, 0.7804],\n",
      "          [0.8196, 0.8039, 0.8000,  ..., 0.8078, 0.8039, 0.7961],\n",
      "          [0.8078, 0.7843, 0.7843,  ..., 0.8000, 0.8039, 0.7882]],\n",
      "\n",
      "         [[0.3373, 0.3098, 0.2980,  ..., 0.3529, 0.2275, 0.1961],\n",
      "          [0.3608, 0.3608, 0.3608,  ..., 0.3294, 0.2392, 0.2431],\n",
      "          [0.3137, 0.3882, 0.3765,  ..., 0.2314, 0.1882, 0.2314],\n",
      "          ...,\n",
      "          [0.5020, 0.4941, 0.4824,  ..., 0.4980, 0.4941, 0.4824],\n",
      "          [0.5059, 0.4902, 0.4941,  ..., 0.5216, 0.5059, 0.4902],\n",
      "          [0.5098, 0.4902, 0.4902,  ..., 0.5137, 0.5098, 0.4980]]],\n",
      "\n",
      "\n",
      "        [[[0.7804, 0.7765, 0.7569,  ..., 0.3804, 0.3843, 0.3882],\n",
      "          [0.7961, 0.7608, 0.7451,  ..., 0.3843, 0.3765, 0.3843],\n",
      "          [0.7922, 0.7804, 0.7725,  ..., 0.4000, 0.3882, 0.3882],\n",
      "          ...,\n",
      "          [0.8118, 0.9098, 0.9373,  ..., 0.6745, 0.6706, 0.6667],\n",
      "          [0.6000, 0.5882, 0.6039,  ..., 0.6039, 0.6039, 0.6000],\n",
      "          [0.5176, 0.5490, 0.6157,  ..., 0.6275, 0.6431, 0.6471]],\n",
      "\n",
      "         [[0.8431, 0.8431, 0.8196,  ..., 0.4980, 0.5020, 0.5059],\n",
      "          [0.8235, 0.8078, 0.8118,  ..., 0.4902, 0.4863, 0.4980],\n",
      "          [0.8588, 0.8510, 0.8549,  ..., 0.4980, 0.4902, 0.5020],\n",
      "          ...,\n",
      "          [0.8000, 0.8784, 0.9098,  ..., 0.6314, 0.6314, 0.6314],\n",
      "          [0.5451, 0.5216, 0.5490,  ..., 0.5686, 0.5647, 0.5647],\n",
      "          [0.4510, 0.4784, 0.5686,  ..., 0.6039, 0.6157, 0.6118]],\n",
      "\n",
      "         [[0.9137, 0.9098, 0.8824,  ..., 0.5020, 0.4980, 0.4941],\n",
      "          [0.8627, 0.8588, 0.8784,  ..., 0.4941, 0.4863, 0.4863],\n",
      "          [0.9294, 0.9294, 0.9373,  ..., 0.5059, 0.4902, 0.4941],\n",
      "          ...,\n",
      "          [0.7882, 0.8706, 0.9059,  ..., 0.6471, 0.6471, 0.6471],\n",
      "          [0.5451, 0.5255, 0.5490,  ..., 0.5804, 0.5765, 0.5765],\n",
      "          [0.4549, 0.4863, 0.5686,  ..., 0.6118, 0.6235, 0.6235]]],\n",
      "\n",
      "\n",
      "        [[[0.5216, 0.5804, 0.5804,  ..., 0.5765, 0.3608, 0.4902],\n",
      "          [0.6039, 0.5333, 0.3882,  ..., 0.5059, 0.4196, 0.4980],\n",
      "          [0.5059, 0.3294, 0.3059,  ..., 0.4627, 0.3608, 0.3725],\n",
      "          ...,\n",
      "          [0.6157, 0.6118, 0.4275,  ..., 0.4784, 0.4941, 0.4196],\n",
      "          [0.6039, 0.5176, 0.4078,  ..., 0.4235, 0.4118, 0.4314],\n",
      "          [0.5804, 0.4627, 0.3451,  ..., 0.4667, 0.3961, 0.4314]],\n",
      "\n",
      "         [[0.4706, 0.5137, 0.5255,  ..., 0.4863, 0.2745, 0.3804],\n",
      "          [0.5608, 0.4784, 0.3412,  ..., 0.4196, 0.3412, 0.4078],\n",
      "          [0.4667, 0.2863, 0.2588,  ..., 0.3922, 0.3137, 0.3176],\n",
      "          ...,\n",
      "          [0.5569, 0.6196, 0.4588,  ..., 0.4392, 0.4549, 0.3922],\n",
      "          [0.5333, 0.5059, 0.4235,  ..., 0.3882, 0.3765, 0.4039],\n",
      "          [0.5059, 0.4353, 0.3490,  ..., 0.4314, 0.3647, 0.4078]],\n",
      "\n",
      "         [[0.4941, 0.5294, 0.5255,  ..., 0.4588, 0.2510, 0.3647],\n",
      "          [0.5451, 0.4667, 0.3255,  ..., 0.4000, 0.3216, 0.3961],\n",
      "          [0.4471, 0.2784, 0.2627,  ..., 0.3725, 0.2863, 0.3020],\n",
      "          ...,\n",
      "          [0.5529, 0.6078, 0.4549,  ..., 0.4353, 0.4588, 0.4000],\n",
      "          [0.5333, 0.4941, 0.4196,  ..., 0.3922, 0.3961, 0.4275],\n",
      "          [0.5059, 0.4235, 0.3373,  ..., 0.4431, 0.3922, 0.4353]]]]), tensor([0, 1, 2, 5, 7, 7, 6, 5, 8, 3, 5, 6, 1, 1, 2, 2, 5, 9, 5, 7, 4, 7, 8, 6,\n",
      "        7, 5, 4, 2, 4, 0, 7, 5, 5, 6, 1, 9, 5, 0, 9, 6, 3, 7, 8, 6, 2, 6, 8, 5,\n",
      "        0, 8, 6, 0, 0, 7, 8, 7, 0, 1, 4, 4, 6, 0, 2, 0, 1, 2, 7, 1, 7, 3, 5, 5,\n",
      "        1, 0, 1, 3, 8, 0, 5, 2, 0, 9, 2, 9, 2, 8, 0, 2, 8, 5, 3, 7, 6, 9, 6, 2,\n",
      "        2, 4, 5, 2, 6, 6, 6, 0, 1, 3, 0, 4, 0, 9, 7, 9, 6, 8, 4, 1, 7, 2, 9, 1,\n",
      "        5, 4, 4, 8, 8, 4, 2, 6])]\n"
     ]
    }
   ],
   "source": [
    "for data in trainset:\n",
    "    print(data)\n",
    "    break"
   ]
  },
  {
   "cell_type": "code",
   "execution_count": 84,
   "metadata": {},
   "outputs": [
    {
     "data": {
      "text/plain": [
       "tensor([0, 1, 2, 5, 7, 7, 6, 5, 8, 3, 5, 6, 1, 1, 2, 2, 5, 9, 5, 7, 4, 7, 8, 6,\n",
       "        7, 5, 4, 2, 4, 0, 7, 5, 5, 6, 1, 9, 5, 0, 9, 6, 3, 7, 8, 6, 2, 6, 8, 5,\n",
       "        0, 8, 6, 0, 0, 7, 8, 7, 0, 1, 4, 4, 6, 0, 2, 0, 1, 2, 7, 1, 7, 3, 5, 5,\n",
       "        1, 0, 1, 3, 8, 0, 5, 2, 0, 9, 2, 9, 2, 8, 0, 2, 8, 5, 3, 7, 6, 9, 6, 2,\n",
       "        2, 4, 5, 2, 6, 6, 6, 0, 1, 3, 0, 4, 0, 9, 7, 9, 6, 8, 4, 1, 7, 2, 9, 1,\n",
       "        5, 4, 4, 8, 8, 4, 2, 6])"
      ]
     },
     "execution_count": 84,
     "metadata": {},
     "output_type": "execute_result"
    }
   ],
   "source": [
    "# Output labels for a single batch\n",
    "data[1]"
   ]
  },
  {
   "attachments": {},
   "cell_type": "markdown",
   "metadata": {},
   "source": [
    "# plotting a sample image"
   ]
  },
  {
   "cell_type": "code",
   "execution_count": 85,
   "metadata": {},
   "outputs": [
    {
     "data": {
      "image/png": "[encoded data removed]",
      "text/plain": [
       "<Figure size 432x288 with 1 Axes>"
      ]
     },
     "metadata": {
      "needs_background": "light"
     },
     "output_type": "display_data"
    }
   ],
   "source": [
    "import matplotlib.pyplot as plt\n",
    "plt.imshow(data[0][9].permute(1,2,0))\n",
    "plt.show()"
   ]
  },
  {
   "attachments": {},
   "cell_type": "markdown",
   "metadata": {},
   "source": [
    "# Making the convnet"
   ]
  },
  {
   "cell_type": "code",
   "execution_count": 86,
   "metadata": {},
   "outputs": [],
   "source": [
    "import torch as tc\n",
    "import torch.nn as nn\n",
    "import torch.nn.functional as F"
   ]
  },
  {
   "cell_type": "code",
   "execution_count": 87,
   "metadata": {},
   "outputs": [
    {
     "name": "stdout",
     "output_type": "stream",
     "text": [
      "CNN(\n",
      "  (conv1): Conv2d(3, 32, kernel_size=(3, 3), stride=(1, 1), padding=(1, 1))\n",
      "  (conv2): Conv2d(32, 64, kernel_size=(3, 3), stride=(1, 1), padding=(1, 1))\n",
      "  (conv3): Conv2d(64, 128, kernel_size=(3, 3), stride=(1, 1), padding=(1, 1))\n",
      "  (conv4): Conv2d(128, 128, kernel_size=(3, 3), stride=(1, 1), padding=(1, 1))\n",
      "  (conv5): Conv2d(128, 256, kernel_size=(3, 3), stride=(1, 1), padding=(1, 1))\n",
      "  (conv6): Conv2d(256, 256, kernel_size=(3, 3), stride=(1, 1), padding=(1, 1))\n",
      "  (fc1): Linear(in_features=4096, out_features=1024, bias=True)\n",
      "  (fc2): Linear(in_features=1024, out_features=512, bias=True)\n",
      "  (fc3): Linear(in_features=512, out_features=10, bias=True)\n",
      ")\n"
     ]
    }
   ],
   "source": [
    "class CNN(nn.Module):\n",
    "    def __init__(self):\n",
    "        super().__init__()\n",
    "        self.conv1 = nn.Conv2d(3,32,kernel_size=3,padding=1)\n",
    "        self.conv2 = nn.Conv2d(32,64,kernel_size=3,stride=1,padding=1)\n",
    "        self.conv3 = nn.Conv2d(64,128,kernel_size=3,stride=1,padding=1)\n",
    "        self.conv4 = nn.Conv2d(128,128,kernel_size=3,stride=1,padding=1)\n",
    "        self.conv5 = nn.Conv2d(128,256,kernel_size=3,stride=1,padding=1)\n",
    "        self.conv6 = nn.Conv2d(256,256,kernel_size=3,stride=1,padding=1)\n",
    "\n",
    "        x = tc.randn(3,32,32).view(-1,3,32,32)\n",
    "        self._to_linear = None\n",
    "        self.convs(x)\n",
    "\n",
    "        self.fc1 = nn.Linear(self._to_linear,1024)\n",
    "        self.fc2 = nn.Linear(1024,512)\n",
    "        self.fc3 = nn.Linear(512,10)\n",
    "    \n",
    "    # to get the shape for flattening\n",
    "    def convs(self,x):\n",
    "        x = F.relu(self.conv1(x))\n",
    "        x = F.max_pool2d(F.relu(self.conv2(x)),(2,2))\n",
    "        x = F.relu(self.conv3(x))\n",
    "        x = F.max_pool2d(F.relu(self.conv4(x)),(2,2))\n",
    "        x = F.relu(self.conv5(x))\n",
    "        x = F.max_pool2d(F.relu(self.conv6(x)),(2,2))\n",
    "\n",
    "        if self._to_linear == None:\n",
    "            self._to_linear = x[0].shape[0]*x[0].shape[1]*x[0].shape[2]\n",
    "        return x\n",
    "\n",
    "    # feed forward layer\n",
    "    def forward(self,x):\n",
    "        x = self.convs(x)\n",
    "        x = x.view(-1,self._to_linear)\n",
    "        x = F.relu(self.fc1(x))\n",
    "        x = F.relu(self.fc2(x))\n",
    "        return x\n",
    "\n",
    "net = CNN()\n",
    "print(net)"
   ]
  },
  {
   "attachments": {},
   "cell_type": "markdown",
   "metadata": {},
   "source": [
    "# Defining optimizer and loss function"
   ]
  },
  {
   "cell_type": "code",
   "execution_count": 88,
   "metadata": {},
   "outputs": [
    {
     "name": "stdout",
     "output_type": "stream",
     "text": [
      "Epoch : 0, Loss : 2.378924608230591\n",
      "Epoch : 1, Loss : 1.8648672103881836\n",
      "Epoch : 2, Loss : 1.228666067123413\n",
      "Epoch : 3, Loss : 1.7016971111297607\n",
      "Epoch : 4, Loss : 1.1415678262710571\n",
      "Epoch : 5, Loss : 1.1171096563339233\n"
     ]
    }
   ],
   "source": [
    "import torch.optim as optim\n",
    "Epochs = 6\n",
    "\n",
    "optimizer = optim.Adam(net.parameters(),lr=0.001)\n",
    "\n",
    "for epoch in range(Epochs):\n",
    "    for data in trainset:\n",
    "        x, y = data[0],data[1]\n",
    "\n",
    "        # assigning weights to be zero\n",
    "        net.zero_grad()\n",
    "        outputs = net(x)\n",
    "        loss = F.cross_entropy(outputs,y)\n",
    "        loss.backward()\n",
    "        optimizer.step()\n",
    "    \n",
    "    print(f'Epoch : {epoch}, Loss : {loss}')"
   ]
  },
  {
   "attachments": {},
   "cell_type": "markdown",
   "metadata": {},
   "source": [
    "# Testing the model"
   ]
  },
  {
   "cell_type": "code",
   "execution_count": 89,
   "metadata": {},
   "outputs": [
    {
     "name": "stdout",
     "output_type": "stream",
     "text": [
      "Validation accuracy is given as :  0.7\n"
     ]
    }
   ],
   "source": [
    "correct = 0\n",
    "total = 0\n",
    "\n",
    "with tc.no_grad():\n",
    "    for data in testset:\n",
    "        i = 0\n",
    "        x, y = data[0],data[1]\n",
    "        outputs = net(x)[i]\n",
    "        if(tc.argmax(outputs) == y[i]):\n",
    "            correct += 1\n",
    "        i+=1\n",
    "        total += 1\n",
    "\n",
    "print('Validation accuracy is given as : ',(correct/total))"
   ]
  }
 ],
 "metadata": {
  "kernelspec": {
   "display_name": "Python 3",
   "language": "python",
   "name": "python3"
  },
  "language_info": {
   "codemirror_mode": {
    "name": "ipython",
    "version": 3
   },
   "file_extension": ".py",
   "mimetype": "text/x-python",
   "name": "python",
   "nbconvert_exporter": "python",
   "pygments_lexer": "ipython3",
   "version": "3.10.4"
  },
  "orig_nbformat": 4,
  "vscode": {
   "interpreter": {
    "hash": "80ba4016e8ec853d7b55d6915013d2adae47c4b5f908295f8089a04cc277b65d"
   }
  }
 },
 "nbformat": 4,
 "nbformat_minor": 2
}
